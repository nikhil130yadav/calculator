{
 "cells": [
  {
   "cell_type": "code",
   "execution_count": null,
   "metadata": {},
   "outputs": [
    {
     "name": "stdout",
     "output_type": "stream",
     "text": [
      "enter your choice\n"
     ]
    }
   ],
   "source": [
    "import operations\n",
    "def display():\n",
    "    choice = int(input(\"1.Add two numbers\\n2.Subtract two numbers\\n\"))\n",
    "    return choice\n",
    "\n",
    "def operate(choice):\n",
    "    if choice==1:\n",
    "        number_1=input(\"\\nEnter First number\")\n",
    "        number_2=input(\"\\Enter second number\")\n",
    "        result = \"Sum of \"+number_1+'and'+number_2+'is:'+str(operations.add(int(float(number_1)),int(float(number_2))))\n",
    "    else:\n",
    "            number_1=input(\"\\nEnter First number\")\n",
    "            number_2=input(\"\\Enter second number\")\n",
    "            result = \"Sum of\"+number_1+'and'+number_2+'is:'+str(operations.subtract(int(float(number_1)),int(float(number_2))))\n",
    "if __name__ == \"__main__\":\n",
    "            print(\"enter your choice\")\n",
    "            choice = display()\n",
    "            result=operate(choice)\n",
    "            print(\"\\n\",result)"
   ]
  },
  {
   "cell_type": "code",
   "execution_count": null,
   "metadata": {},
   "outputs": [],
   "source": []
  },
  {
   "cell_type": "code",
   "execution_count": null,
   "metadata": {},
   "outputs": [],
   "source": []
  },
  {
   "cell_type": "code",
   "execution_count": null,
   "metadata": {},
   "outputs": [],
   "source": []
  }
 ],
 "metadata": {
  "kernelspec": {
   "display_name": "Python 3",
   "language": "python",
   "name": "python3"
  },
  "language_info": {
   "codemirror_mode": {
    "name": "ipython",
    "version": 3
   },
   "file_extension": ".py",
   "mimetype": "text/x-python",
   "name": "python",
   "nbconvert_exporter": "python",
   "pygments_lexer": "ipython3",
   "version": "3.7.0"
  }
 },
 "nbformat": 4,
 "nbformat_minor": 2
}
