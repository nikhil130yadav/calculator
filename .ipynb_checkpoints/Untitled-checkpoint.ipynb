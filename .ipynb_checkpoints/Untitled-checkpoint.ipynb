{
 "cells": [
  {
   "cell_type": "code",
   "execution_count": 1,
   "metadata": {},
   "outputs": [
    {
     "ename": "SyntaxError",
     "evalue": "invalid syntax (<ipython-input-1-22df6b452cd1>, line 10)",
     "output_type": "error",
     "traceback": [
      "\u001b[1;36m  File \u001b[1;32m\"<ipython-input-1-22df6b452cd1>\"\u001b[1;36m, line \u001b[1;32m10\u001b[0m\n\u001b[1;33m    result = \"Sum of \"+number_1+'and'+number_2+'is:'+str(operations.add(int(float(number_1))mint(float(number_2))))\u001b[0m\n\u001b[1;37m                                                                                               ^\u001b[0m\n\u001b[1;31mSyntaxError\u001b[0m\u001b[1;31m:\u001b[0m invalid syntax\n"
     ]
    }
   ],
   "source": [
    "import operations\n",
    "def display():\n",
    "    choice = int(input(\"1.Add two numbers\\n2.Subtract two numbers\\n\"))\n",
    "    return choice\n",
    "\n",
    "def operate(choice):\n",
    "    if choice==1:\n",
    "        number_1=input(\"\\nEnter First number\")\n",
    "        number_2=input(\"\\Enter second number\")\n",
    "        result = \"Sum of \"+number_1+'and'+number_2+'is:'+str(operations.add(int(float(number_1)),int(float(number_2))))\n",
    "    else:\n",
    "            number_1=input(\"\\nEnter First number\")\n",
    "            number_2=input(\"\\Enter second number\")\n",
    "            result = \"Sum of\"+number_1+'and'+number_2+'is:'+str(operations.subtract(int(float(number_1)),int(float(number_2))))\n",
    "if __name__ == \"__main__\":\n",
    "            print(\"enter your choice\")\n",
    "            choice = display()\n",
    "            result=operate(choice)\n",
    "            print(\"\\n\",result)"
   ]
  },
  {
   "cell_type": "code",
   "execution_count": null,
   "metadata": {},
   "outputs": [],
   "source": []
  }
 ],
 "metadata": {
  "kernelspec": {
   "display_name": "Python 3",
   "language": "python",
   "name": "python3"
  },
  "language_info": {
   "codemirror_mode": {
    "name": "ipython",
    "version": 3
   },
   "file_extension": ".py",
   "mimetype": "text/x-python",
   "name": "python",
   "nbconvert_exporter": "python",
   "pygments_lexer": "ipython3",
   "version": "3.7.0"
  }
 },
 "nbformat": 4,
 "nbformat_minor": 2
}
